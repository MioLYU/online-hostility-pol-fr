{
 "cells": [
  {
   "cell_type": "markdown",
   "metadata": {},
   "source": [
    "## Data"
   ]
  },
  {
   "cell_type": "code",
   "execution_count": 20,
   "metadata": {},
   "outputs": [],
   "source": [
    "import pandas as pd"
   ]
  },
  {
   "cell_type": "markdown",
   "metadata": {},
   "source": [
    "Using the cleaned data"
   ]
  },
  {
   "cell_type": "code",
   "execution_count": 21,
   "metadata": {},
   "outputs": [],
   "source": [
    "df = pd.read_csv('matched_texts.csv') "
   ]
  },
  {
   "cell_type": "code",
   "execution_count": 22,
   "metadata": {},
   "outputs": [],
   "source": [
    "abusive_df = df[(df['abusetag2'] == 1)]\n",
    "nonabusive_df = df[(df['abusetag2'] == 0)]"
   ]
  },
  {
   "cell_type": "code",
   "execution_count": 23,
   "metadata": {},
   "outputs": [],
   "source": [
    "sampled_abusive_df = abusive_df.sample(n=100, random_state=42).sample(frac=1, random_state=42).reset_index(drop=True)\n",
    "sampled_nonabusive_df = nonabusive_df.sample(n=100, random_state=42).sample(frac=1, random_state=42).reset_index(drop=True)\n",
    "sampled_df = pd.concat([sampled_nonabusive_df, sampled_abusive_df])\n",
    "sampled_df = sampled_df.sample(frac=1, random_state=42).reset_index(drop=True)"
   ]
  },
  {
   "cell_type": "code",
   "execution_count": 24,
   "metadata": {},
   "outputs": [
    {
     "data": {
      "text/html": [
       "<div>\n",
       "<style scoped>\n",
       "    .dataframe tbody tr th:only-of-type {\n",
       "        vertical-align: middle;\n",
       "    }\n",
       "\n",
       "    .dataframe tbody tr th {\n",
       "        vertical-align: top;\n",
       "    }\n",
       "\n",
       "    .dataframe thead th {\n",
       "        text-align: right;\n",
       "    }\n",
       "</style>\n",
       "<table border=\"1\" class=\"dataframe\">\n",
       "  <thead>\n",
       "    <tr style=\"text-align: right;\">\n",
       "      <th></th>\n",
       "      <th>id</th>\n",
       "      <th>abusetag2</th>\n",
       "      <th>tigger.predict</th>\n",
       "      <th>tigger.predprob</th>\n",
       "      <th>tiggerpred_0</th>\n",
       "      <th>tiggerpred_1</th>\n",
       "      <th>text</th>\n",
       "    </tr>\n",
       "  </thead>\n",
       "  <tbody>\n",
       "    <tr>\n",
       "      <th>0</th>\n",
       "      <td>1.625890e+18</td>\n",
       "      <td>0</td>\n",
       "      <td>0</td>\n",
       "      <td>0.910161</td>\n",
       "      <td>0.910161</td>\n",
       "      <td>0.089839</td>\n",
       "      <td>@LCP @olivierdussopt @Elisabeth_Borne Par cont...</td>\n",
       "    </tr>\n",
       "    <tr>\n",
       "      <th>1</th>\n",
       "      <td>1.623221e+18</td>\n",
       "      <td>0</td>\n",
       "      <td>0</td>\n",
       "      <td>0.917249</td>\n",
       "      <td>0.917249</td>\n",
       "      <td>0.082751</td>\n",
       "      <td>@shatanou @LaFrancematuer @sandrousseau @EELV ...</td>\n",
       "    </tr>\n",
       "    <tr>\n",
       "      <th>2</th>\n",
       "      <td>1.625263e+18</td>\n",
       "      <td>0</td>\n",
       "      <td>0</td>\n",
       "      <td>0.952877</td>\n",
       "      <td>0.952877</td>\n",
       "      <td>0.047123</td>\n",
       "      <td>@rvicot @faureolivier @BorisVallaud @MartineAu...</td>\n",
       "    </tr>\n",
       "    <tr>\n",
       "      <th>3</th>\n",
       "      <td>1.630572e+18</td>\n",
       "      <td>1</td>\n",
       "      <td>1</td>\n",
       "      <td>0.942305</td>\n",
       "      <td>0.057695</td>\n",
       "      <td>0.942305</td>\n",
       "      <td>@Deputee_Obono Mange tes morts</td>\n",
       "    </tr>\n",
       "    <tr>\n",
       "      <th>4</th>\n",
       "      <td>1.626732e+18</td>\n",
       "      <td>1</td>\n",
       "      <td>1</td>\n",
       "      <td>0.751286</td>\n",
       "      <td>0.248714</td>\n",
       "      <td>0.751286</td>\n",
       "      <td>RT @karineS34140: @LouisBoyard c’est deux sema...</td>\n",
       "    </tr>\n",
       "    <tr>\n",
       "      <th>...</th>\n",
       "      <td>...</td>\n",
       "      <td>...</td>\n",
       "      <td>...</td>\n",
       "      <td>...</td>\n",
       "      <td>...</td>\n",
       "      <td>...</td>\n",
       "      <td>...</td>\n",
       "    </tr>\n",
       "    <tr>\n",
       "      <th>195</th>\n",
       "      <td>1.624355e+18</td>\n",
       "      <td>1</td>\n",
       "      <td>1</td>\n",
       "      <td>0.990829</td>\n",
       "      <td>0.009171</td>\n",
       "      <td>0.990829</td>\n",
       "      <td>@lamiaela @Portes_Thomas Ferme la, idiote!</td>\n",
       "    </tr>\n",
       "    <tr>\n",
       "      <th>196</th>\n",
       "      <td>1.624898e+18</td>\n",
       "      <td>0</td>\n",
       "      <td>0</td>\n",
       "      <td>0.900513</td>\n",
       "      <td>0.900513</td>\n",
       "      <td>0.099487</td>\n",
       "      <td>شبينغلر https://twitter.com/Ahmedsa1357913/sta...</td>\n",
       "    </tr>\n",
       "    <tr>\n",
       "      <th>197</th>\n",
       "      <td>1.626490e+18</td>\n",
       "      <td>0</td>\n",
       "      <td>0</td>\n",
       "      <td>0.994710</td>\n",
       "      <td>0.994710</td>\n",
       "      <td>0.005290</td>\n",
       "      <td>@Fabrice_TeamEM @Ugobernalicis @YaelBRAUNPIVET...</td>\n",
       "    </tr>\n",
       "    <tr>\n",
       "      <th>198</th>\n",
       "      <td>1.622701e+18</td>\n",
       "      <td>1</td>\n",
       "      <td>1</td>\n",
       "      <td>0.664141</td>\n",
       "      <td>0.335859</td>\n",
       "      <td>0.664141</td>\n",
       "      <td>@sandrousseau @Clem_Autain 🤦‍♀️🤦‍♀️🤦‍♀️Seigneu...</td>\n",
       "    </tr>\n",
       "    <tr>\n",
       "      <th>199</th>\n",
       "      <td>1.624052e+18</td>\n",
       "      <td>1</td>\n",
       "      <td>1</td>\n",
       "      <td>0.663251</td>\n",
       "      <td>0.336749</td>\n",
       "      <td>0.663251</td>\n",
       "      <td>@IsabelleNuel @amine_umlil @MARYFrancoise3 @Fr...</td>\n",
       "    </tr>\n",
       "  </tbody>\n",
       "</table>\n",
       "<p>200 rows × 7 columns</p>\n",
       "</div>"
      ],
      "text/plain": [
       "               id  abusetag2  tigger.predict  tigger.predprob  tiggerpred_0  \\\n",
       "0    1.625890e+18          0               0         0.910161      0.910161   \n",
       "1    1.623221e+18          0               0         0.917249      0.917249   \n",
       "2    1.625263e+18          0               0         0.952877      0.952877   \n",
       "3    1.630572e+18          1               1         0.942305      0.057695   \n",
       "4    1.626732e+18          1               1         0.751286      0.248714   \n",
       "..            ...        ...             ...              ...           ...   \n",
       "195  1.624355e+18          1               1         0.990829      0.009171   \n",
       "196  1.624898e+18          0               0         0.900513      0.900513   \n",
       "197  1.626490e+18          0               0         0.994710      0.994710   \n",
       "198  1.622701e+18          1               1         0.664141      0.335859   \n",
       "199  1.624052e+18          1               1         0.663251      0.336749   \n",
       "\n",
       "     tiggerpred_1                                               text  \n",
       "0        0.089839  @LCP @olivierdussopt @Elisabeth_Borne Par cont...  \n",
       "1        0.082751  @shatanou @LaFrancematuer @sandrousseau @EELV ...  \n",
       "2        0.047123  @rvicot @faureolivier @BorisVallaud @MartineAu...  \n",
       "3        0.942305                     @Deputee_Obono Mange tes morts  \n",
       "4        0.751286  RT @karineS34140: @LouisBoyard c’est deux sema...  \n",
       "..            ...                                                ...  \n",
       "195      0.990829         @lamiaela @Portes_Thomas Ferme la, idiote!  \n",
       "196      0.099487  شبينغلر https://twitter.com/Ahmedsa1357913/sta...  \n",
       "197      0.005290  @Fabrice_TeamEM @Ugobernalicis @YaelBRAUNPIVET...  \n",
       "198      0.664141  @sandrousseau @Clem_Autain 🤦‍♀️🤦‍♀️🤦‍♀️Seigneu...  \n",
       "199      0.663251  @IsabelleNuel @amine_umlil @MARYFrancoise3 @Fr...  \n",
       "\n",
       "[200 rows x 7 columns]"
      ]
     },
     "execution_count": 24,
     "metadata": {},
     "output_type": "execute_result"
    }
   ],
   "source": [
    "sampled_df"
   ]
  },
  {
   "cell_type": "markdown",
   "metadata": {},
   "source": [
    "## Ask LLM"
   ]
  },
  {
   "cell_type": "code",
   "execution_count": 25,
   "metadata": {},
   "outputs": [],
   "source": [
    "texts_to_analyze = sampled_df['text'].tolist()"
   ]
  },
  {
   "cell_type": "code",
   "execution_count": 26,
   "metadata": {},
   "outputs": [],
   "source": [
    "from openai import OpenAI\n",
    "import json\n",
    "import re\n",
    "\n",
    "client = OpenAI(\n",
    "    api_key = \"abc\", # Change this to your OpenAI API key\n",
    ")"
   ]
  },
  {
   "cell_type": "code",
   "execution_count": 27,
   "metadata": {},
   "outputs": [],
   "source": [
    "def get_abusive_score(client, text_to_analyse, file_name):\n",
    "    tweets_content = \"\\n\".join([f\"{i+1}. {tweet}\" for i, tweet in enumerate(text_to_analyse)])\n",
    "    \n",
    "    messages = [\n",
    "        {\"role\": \"system\", \"content\": \"You are an annotator for the tweets in French.\"},\n",
    "        {\"role\": \"user\", \"content\": (\n",
    "            \"Now you are an annotator for the tweets which are the responses for French politicians. For each tweet in the given list, annotate the given tweets as abusive or not abusive in the format of : \"\n",
    "            \"{'index':'score'} which can be saved into a json file directly (separating with ',', without any '/n'). For the score, abusive tweets should be labelled as 1, non-abusive tweets should be labelled as 0.\\n\\n\"\n",
    "            \"When annotating the tweets, please consider the following coding scheme:\\n\"\n",
    "            \"Abusive: Negative, toxic, aggressive, threatening and demeaning comments that targets the MP as an individual (and not as a politician). These include:\\n\"\n",
    "            \"1) slurs and hate speech (including censored terms): Direct and explicit words that are commonly classified as hateful towards an individual or group based on identity characteristics. \"\n",
    "            \"This also includes instances of the word being included in its censored version to get around automatic content moderation (for example p*** = “pute”)\\n\"\n",
    "            \"2) aggressive or demeaning language: Insulting, aggressive, toxic, demeaning and belittling language targeting the MP as an individual (but not necessarily crossing the line to illegal hate speech).\\n\"\n",
    "            \"3) Personal negative remarks: Any comment on personal characteristics that do not have anything to do with the person’s duties as politicians. These include comments on dress, personal appearance, voice, and other personal aspects not related to their duties as politician. Note that these comments can sometimes seem positive at face value (“tu es belle”) but be considered abusive in context as they aim to reduce the MP to their physical appearance.\\n\"\n",
    "            \"4) Threats: Evoking threats of physical or sexual violence (directly or indirectly).\\n\"\n",
    "            \"Attention, everything that is negative but explicitly targets the individual's behavior as a politician and their policies, rather than the individual as a person, should be labelled as 'non-abusive'. Pay attention to suspected cases of sarcasm: for example 'waouh il est intelligent........' is different from 'comme il est intelligent !👏'\"\n",
    "            \"Here are the tweets:\\n\" + tweets_content)}\n",
    "    ]\n",
    "    \n",
    "    response = client.chat.completions.create(\n",
    "        model=\"gpt-3.5-turbo-0125\",\n",
    "        messages=messages,\n",
    "        temperature=0.5,\n",
    "    )\n",
    "    \n",
    "    response_message = response.choices[0].message.content\n",
    "\n",
    "    response_message_clean = re.sub(r'[\\n\\t]', '', response_message)\n",
    "    \n",
    "    print(response_message_clean)\n",
    "    \n",
    "    try:\n",
    "        annotations = json.loads(response_message_clean)\n",
    "    except json.JSONDecodeError as e:\n",
    "        print(f\"JSON decoding error: {e}\")\n",
    "        return\n",
    "    \n",
    "    with open(file_name, 'w', encoding='utf-8') as f:\n",
    "        json.dump(annotations, f, ensure_ascii=False, indent=4)"
   ]
  },
  {
   "cell_type": "code",
   "execution_count": 28,
   "metadata": {},
   "outputs": [
    {
     "name": "stdout",
     "output_type": "stream",
     "text": [
      "{\"1\": \"0\",\"2\": \"0\",\"3\": \"0\",\"4\": \"1\",\"5\": \"1\",\"6\": \"1\",\"7\": \"1\",\"8\": \"1\",\"9\": \"1\",\"10\": \"0\",\"11\": \"1\",\"12\": \"1\",\"13\": \"0\",\"14\": \"0\",\"15\": \"0\",\"16\": \"1\",\"17\": \"1\",\"18\": \"1\",\"19\": \"1\",\"20\": \"1\",\"21\": \"1\",\"22\": \"0\",\"23\": \"1\",\"24\": \"1\",\"25\": \"0\",\"26\": \"0\",\"27\": \"0\",\"28\": \"0\",\"29\": \"1\",\"30\": \"1\",\"31\": \"0\",\"32\": \"0\",\"33\": \"0\",\"34\": \"0\",\"35\": \"1\",\"36\": \"1\",\"37\": \"1\",\"38\": \"1\",\"39\": \"1\",\"40\": \"0\",\"41\": \"1\",\"42\": \"1\",\"43\": \"1\",\"44\": \"0\",\"45\": \"1\",\"46\": \"1\",\"47\": \"1\",\"48\": \"1\",\"49\": \"0\",\"50\": \"0\",\"51\": \"1\",\"52\": \"0\",\"53\": \"1\",\"54\": \"1\",\"55\": \"1\",\"56\": \"1\",\"57\": \"1\",\"58\": \"0\",\"59\": \"1\",\"60\": \"1\",\"61\": \"1\",\"62\": \"1\",\"63\": \"1\",\"64\": \"0\",\"65\": \"1\",\"66\": \"0\",\"67\": \"1\",\"68\": \"1\",\"69\": \"1\",\"70\": \"1\",\"71\": \"0\",\"72\": \"1\",\"73\": \"1\",\"74\": \"1\",\"75\": \"1\",\"76\": \"1\",\"77\": \"1\",\"78\": \"1\",\"79\": \"1\",\"80\": \"1\",\"81\": \"1\",\"82\": \"0\",\"83\": \"1\",\"84\": \"1\",\"85\": \"1\",\"86\": \"1\",\"87\": \"1\",\"88\": \"1\",\"89\": \"1\",\"90\": \"1\",\"91\": \"1\",\"92\": \"1\",\"93\": \"1\",\"94\": \"1\",\"95\": \"1\",\"96\": \"1\",\"97\": \"1\",\"98\": \"1\",\"99\": \"1\",\"100\": \"1\",\"101\": \"1\",\"102\": \"1\",\"103\": \"1\",\"104\": \"1\",\"105\": \"1\",\"106\": \"1\",\"107\": \"1\",\"108\": \"1\",\"109\": \"1\",\"110\": \"1\",\"111\": \"1\",\"112\": \"1\",\"113\": \"1\",\"114\": \"1\",\"115\": \"1\",\"116\": \"1\",\"117\": \"1\",\"118\": \"1\",\"119\": \"1\",\"120\": \"1\",\"121\": \"1\",\"122\": \"1\",\"123\": \"1\",\"124\": \"1\",\"125\": \"0\",\"126\": \"1\",\"127\": \"1\",\"128\": \"1\",\"129\": \"1\",\"130\": \"1\",\"131\": \"1\",\"132\": \"1\",\"133\": \"1\",\"134\": \"1\",\"135\": \"1\",\"136\": \"1\",\"137\": \"1\",\"138\": \"1\",\"139\": \"1\",\"140\": \"1\",\"141\": \"1\",\"142\": \"1\",\"143\": \"1\",\"144\": \"1\",\"145\": \"1\",\"146\": \"1\",\"147\": \"1\",\"148\": \"1\",\"149\": \"1\",\"150\": \"1\",\"151\": \"1\",\"152\": \"1\",\"153\": \"1\",\"154\": \"1\",\"155\": \"1\",\"156\": \"1\",\"157\": \"1\",\"158\": \"1\",\"159\": \"1\",\"160\": \"1\",\"161\": \"1\",\"162\": \"1\",\"163\": \"1\",\"164\": \"1\",\"165\": \"1\",\"166\": \"1\",\"167\": \"1\",\"168\": \"1\",\"169\": \"1\",\"170\": \"1\",\"171\": \"1\",\"172\": \"1\",\"173\": \"1\",\"174\": \"1\",\"175\": \"1\",\"176\": \"1\",\"177\": \"1\",\"178\": \"1\",\"179\": \"1\",\"180\": \"1\",\"181\": \"1\",\"182\": \"1\",\"183\": \"1\",\"184\": \"1\",\"185\": \"1\",\"186\": \"1\",\"187\": \"1\",\"188\": \"1\",\"189\": \"1\",\"190\": \"1\",\"191\": \"1\",\"192\": \"1\",\"193\": \"1\",\"194\": \"1\",\"195\": \"1\",\"196\": \"1\",\"197\": \"1\",\"198\": \"1\",\"199\": \"1\",\"200\": \"1\"}\n"
     ]
    }
   ],
   "source": [
    "get_abusive_score(client, texts_to_analyze, 'updated_1_emoji_data_gpt_3_5.json')"
   ]
  },
  {
   "cell_type": "code",
   "execution_count": 31,
   "metadata": {},
   "outputs": [],
   "source": [
    "def get_abusive_score(client, text_to_analyse, file_name):\n",
    "    tweets_content = \"\\n\".join([f\"{i+1}. {tweet}\" for i, tweet in enumerate(text_to_analyse)])\n",
    "    \n",
    "    messages = [\n",
    "        {\"role\": \"system\", \"content\": \"You are an annotator for tweets in French.\"},\n",
    "        {\"role\": \"user\", \"content\": (\n",
    "            '''\n",
    "            Now you are an annotator for tweets targeting French politicians. For each tweet in the given list, annotate the given tweets as abusive or not abusive in the format of : \"\n",
    "            {'index':'score'}, for instance {\"1\": 0,\"2\": 0,\"3\": 0,...}, do not give me the json file directly. For the score, abusive tweets should be labelled as 1, non-abusive tweets should be labelled as 0.\\n\\n\"\n",
    "            When annotating the tweets, please consider the following coding scheme:\\n\"\n",
    "            Abusive: Negative, toxic, aggressive, threatening and demeaning comments that targets the MP as an individual (and not as a politician). These include:\\n\"\n",
    "            1) slurs and hate speech (including censored terms): Direct and explicit words that are commonly classified as hateful towards an individual or group based on identity characteristics. \"\n",
    "            This also includes instances of the word being included in its censored version to get around automatic content moderation (for example p*** = “pute”)\\n\"\n",
    "            2) aggressive or demeaning language: Insulting, aggressive, toxic, demeaning and belittling language targeting the MP as an individual (but not necessarily crossing the line to illegal hate speech).\\n\"\n",
    "            3) Personal negative remarks: Any comment on personal characteristics that do not have anything to do with the person’s duties as politicians. These include comments on dress, personal appearance, voice, and other personal aspects not related to their duties as politician. Note that these comments can sometimes seem positive at face value (“tu es belle”) but be considered abusive in context as they aim to reduce the MP to their physical appearance.\\n\"\n",
    "            4) Threats: Evoking threats of physical or sexual violence (directly or indirectly).\\n\\n\n",
    "            Attention, Everything that is negative but explicitly targets the individual's behavior as a politician and their policies, rather than the individual as a person, should be labelled as 'non-abusive'. Pay attention to suspected cases of sarcasm: for example 'waouh il est intelligent........' is different from 'comme il est intelligent !👏'\n",
    "            '''\n",
    "            \"Here are the tweets:\\n\" + tweets_content)}\n",
    "    ]\n",
    "    \n",
    "    response = client.chat.completions.create(\n",
    "        model=\"gpt-4o\",\n",
    "        messages=messages,\n",
    "        temperature=0.5,\n",
    "    )\n",
    "    \n",
    "    response_message = response.choices[0].message.content\n",
    "\n",
    "    response_message_clean = re.sub(r'[\\n\\t]', '', response_message)\n",
    "    \n",
    "    print(response_message_clean)\n",
    "    \n",
    "    \n",
    "    try:\n",
    "        annotations = json.loads(response_message_clean)\n",
    "    except json.JSONDecodeError as e:\n",
    "        print(f\"JSON decoding error: {e}\")\n",
    "        return\n",
    "    \n",
    "    with open(file_name, 'w', encoding='utf-8') as f:\n",
    "        json.dump(annotations, f, ensure_ascii=False, indent=4)"
   ]
  },
  {
   "cell_type": "code",
   "execution_count": 32,
   "metadata": {},
   "outputs": [
    {
     "name": "stdout",
     "output_type": "stream",
     "text": [
      "{\"1\": 0, \"2\": 0, \"3\": 0, \"4\": 1, \"5\": 1, \"6\": 1, \"7\": 1, \"8\": 1, \"9\": 1, \"10\": 0, \"11\": 0, \"12\": 1, \"13\": 0, \"14\": 0, \"15\": 0, \"16\": 1, \"17\": 0, \"18\": 1, \"19\": 0, \"20\": 1, \"21\": 1, \"22\": 0, \"23\": 1, \"24\": 0, \"25\": 0, \"26\": 0, \"27\": 0, \"28\": 0, \"29\": 1, \"30\": 0, \"31\": 0, \"32\": 0, \"33\": 0, \"34\": 0, \"35\": 1, \"36\": 1, \"37\": 0, \"38\": 1, \"39\": 1, \"40\": 0, \"41\": 0, \"42\": 1, \"43\": 0, \"44\": 0, \"45\": 1, \"46\": 1, \"47\": 0, \"48\": 0, \"49\": 1, \"50\": 0, \"51\": 1, \"52\": 0, \"53\": 0, \"54\": 1, \"55\": 1, \"56\": 1, \"57\": 1, \"58\": 0, \"59\": 1, \"60\": 0, \"61\": 1, \"62\": 0, \"63\": 0, \"64\": 0, \"65\": 0, \"66\": 0, \"67\": 1, \"68\": 0, \"69\": 1, \"70\": 1, \"71\": 0, \"72\": 0, \"73\": 1, \"74\": 0, \"75\": 1, \"76\": 1, \"77\": 0, \"78\": 0, \"79\": 1, \"80\": 0, \"81\": 0, \"82\": 0, \"83\": 0, \"84\": 1, \"85\": 0, \"86\": 0, \"87\": 1, \"88\": 0, \"89\": 1, \"90\": 0, \"91\": 0, \"92\": 0, \"93\": 0, \"94\": 0, \"95\": 0, \"96\": 1, \"97\": 0, \"98\": 0, \"99\": 0, \"100\": 1, \"101\": 0, \"102\": 0, \"103\": 1, \"104\": 0, \"105\": 0, \"106\": 1, \"107\": 0, \"108\": 0, \"109\": 1, \"110\": 0, \"111\": 1, \"112\": 0, \"113\": 1, \"114\": 0, \"115\": 0, \"116\": 1, \"117\": 0, \"118\": 1, \"119\": 1, \"120\": 0, \"121\": 0, \"122\": 1, \"123\": 1, \"124\": 0, \"125\": 0, \"126\": 0, \"127\": 1, \"128\": 0, \"129\": 0, \"130\": 0, \"131\": 0, \"132\": 0, \"133\": 1, \"134\": 1, \"135\": 0, \"136\": 0, \"137\": 0, \"138\": 1, \"139\": 0, \"140\": 0, \"141\": 0, \"142\": 0, \"143\": 0, \"144\": 0, \"145\": 0, \"146\": 0, \"147\": 0, \"148\": 0, \"149\": 0, \"150\": 1, \"151\": 1, \"152\": 0, \"153\": 0, \"154\": 1, \"155\": 1, \"156\": 0, \"157\": 1, \"158\": 1, \"159\": 0, \"160\": 0, \"161\": 1, \"162\": 0, \"163\": 0, \"164\": 1, \"165\": 0, \"166\": 0, \"167\": 0, \"168\": 0, \"169\": 1, \"170\": 0, \"171\": 0, \"172\": 0, \"173\": 0, \"174\": 0, \"175\": 0, \"176\": 0, \"177\": 0, \"178\": 0, \"179\": 1, \"180\": 0, \"181\": 0, \"182\": 0, \"183\": 0, \"184\": 1, \"185\": 0, \"186\": 1, \"187\": 0, \"188\": 0, \"189\": 0, \"190\": 0, \"191\": 1, \"192\": 1, \"193\": 0, \"194\": 1, \"195\": 0, \"196\": 1, \"197\": 0, \"198\": 0, \"199\": 0, \"200\": 0}\n"
     ]
    }
   ],
   "source": [
    "get_abusive_score(client, texts_to_analyze, 'updated_1_emoji_data_gpt_4.json')"
   ]
  },
  {
   "cell_type": "markdown",
   "metadata": {},
   "source": [
    "## Get the corresponding text"
   ]
  },
  {
   "cell_type": "code",
   "execution_count": 42,
   "metadata": {},
   "outputs": [],
   "source": [
    "with open('updated_1_emoji_data_gpt_3_5.json', 'r') as file:\n",
    "    annotations_gpt_3_5 = json.load(file)"
   ]
  },
  {
   "cell_type": "code",
   "execution_count": 43,
   "metadata": {},
   "outputs": [],
   "source": [
    "with open('updated_1_emoji_data_gpt_4.json', 'r') as file:\n",
    "    annotations_gpt_4 = json.load(file)"
   ]
  },
  {
   "cell_type": "code",
   "execution_count": 44,
   "metadata": {},
   "outputs": [],
   "source": [
    "df_gpt_4 = pd.DataFrame(annotations_gpt_4, index=[0])\n",
    "df_gpt_3_5 = pd.DataFrame(annotations_gpt_3_5, index=[0])"
   ]
  },
  {
   "cell_type": "code",
   "execution_count": 45,
   "metadata": {},
   "outputs": [],
   "source": [
    "df_gpt_4 = df_gpt_4.T\n",
    "df_gpt_3_5 = df_gpt_3_5.T"
   ]
  },
  {
   "cell_type": "code",
   "execution_count": 46,
   "metadata": {},
   "outputs": [],
   "source": [
    "df_gpt_4 = df_gpt_4.rename(columns={df_gpt_4.columns[0]: 'gpt4_score'}).reset_index(drop=True)\n",
    "df_gpt_3_5 = df_gpt_3_5.rename(columns={df_gpt_3_5.columns[0]: 'gpt3_5_score'}).reset_index(drop=True)"
   ]
  },
  {
   "cell_type": "code",
   "execution_count": 47,
   "metadata": {},
   "outputs": [],
   "source": [
    "merged_df = sampled_df.merge(df_gpt_4, left_index=True, right_index=True)\n",
    "merged_df = merged_df.merge(df_gpt_3_5, left_index=True, right_index=True)"
   ]
  },
  {
   "cell_type": "code",
   "execution_count": 48,
   "metadata": {},
   "outputs": [],
   "source": [
    "final_df = merged_df[['text', 'abusetag2', 'gpt3_5_score', 'gpt4_score']]"
   ]
  },
  {
   "cell_type": "code",
   "execution_count": 49,
   "metadata": {},
   "outputs": [],
   "source": [
    "final_df\n",
    "final_df.to_csv('updated_1_emoji_data_LLM_score.csv', index=False)"
   ]
  }
 ],
 "metadata": {
  "kernelspec": {
   "display_name": "Python 3",
   "language": "python",
   "name": "python3"
  },
  "language_info": {
   "codemirror_mode": {
    "name": "ipython",
    "version": 3
   },
   "file_extension": ".py",
   "mimetype": "text/x-python",
   "name": "python",
   "nbconvert_exporter": "python",
   "pygments_lexer": "ipython3",
   "version": "3.10.11"
  }
 },
 "nbformat": 4,
 "nbformat_minor": 2
}
